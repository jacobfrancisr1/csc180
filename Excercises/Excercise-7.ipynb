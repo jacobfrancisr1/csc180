{
 "cells": [
  {
   "cell_type": "markdown",
   "metadata": {},
   "source": [
    "# Car Prices Regression\n",
    "# Method 1: Dummy Variables\n",
    "# Method 2: One-Hot Encoding"
   ]
  },
  {
   "cell_type": "code",
   "execution_count": 1,
   "metadata": {},
   "outputs": [],
   "source": [
    "import pandas as pd\n",
    "import numpy as np\n",
    "import matplotlib.pyplot as plt\n",
    "from sklearn.linear_model import LinearRegression\n",
    "from sklearn.preprocessing import LabelEncoder, OneHotEncoder\n",
    "from sklearn.compose import ColumnTransformer"
   ]
  },
  {
   "cell_type": "code",
   "execution_count": 2,
   "metadata": {},
   "outputs": [
    {
     "name": "stdout",
     "output_type": "stream",
     "text": [
      "First rows of dataset:\n",
      "   Car Model  Mileage  Sell Price($)  Age(yrs)\n",
      "0    BMW X5    69000          18000         6\n",
      "1    BMW X5    35000          34000         3\n",
      "2    BMW X5    57000          26100         5\n",
      "3    BMW X5    22500          40000         2\n",
      "4    BMW X5    46000          31500         4\n"
     ]
    }
   ],
   "source": [
    "# Load dataset\n",
    "data = pd.read_csv(\"/Users/jacobfrancis/dev/csc180/csv/carprices4.csv\")\n",
    "print(\"First rows of dataset:\\n\", data.head())"
   ]
  },
  {
   "cell_type": "code",
   "execution_count": 3,
   "metadata": {},
   "outputs": [
    {
     "name": "stdout",
     "output_type": "stream",
     "text": [
      "Dummy columns created: ['BMW X5', 'Mercedez Benz C class']\n"
     ]
    }
   ],
   "source": [
    "# Create dummy variables for Car Model (drop first to avoid multicollinearity)\n",
    "dummies = pd.get_dummies(data['Car Model'], drop_first=True)\n",
    "print(\"Dummy columns created:\", list(dummies.columns))"
   ]
  },
  {
   "cell_type": "code",
   "execution_count": 4,
   "metadata": {},
   "outputs": [
    {
     "name": "stdout",
     "output_type": "stream",
     "text": [
      "  Car Model  Mileage  Sell Price($)  Age(yrs)  BMW X5  Mercedez Benz C class\n",
      "0    BMW X5    69000          18000         6    True                  False\n",
      "1    BMW X5    35000          34000         3    True                  False\n",
      "2    BMW X5    57000          26100         5    True                  False\n",
      "3    BMW X5    22500          40000         2    True                  False\n",
      "4    BMW X5    46000          31500         4    True                  False\n"
     ]
    }
   ],
   "source": [
    "# Combine dummy variables with original dataset\n",
    "df_dummy = pd.concat([data, dummies], axis=1)\n",
    "print(df_dummy.head())"
   ]
  },
  {
   "cell_type": "code",
   "execution_count": 5,
   "metadata": {},
   "outputs": [],
   "source": [
    "# Define features (X) and target (y)\n",
    "X = df_dummy[['Mileage', 'Age(yrs)'] + list(dummies.columns)]\n",
    "y = df_dummy['Sell Price($)']"
   ]
  },
  {
   "cell_type": "code",
   "execution_count": 7,
   "metadata": {},
   "outputs": [
    {
     "name": "stdout",
     "output_type": "stream",
     "text": [
      "Model coefficients: [-3.70122094e-01 -1.33245363e+03 -4.28466659e+03  2.45354074e+03]\n",
      "Model intercept: 56523.08523127496\n",
      "Model R² score: 0.9417050937281083\n"
     ]
    }
   ],
   "source": [
    "# Train regression model using dummy variables\n",
    "model = LinearRegression()\n",
    "model.fit(X, y)\n",
    "\n",
    "print(\"Model coefficients:\", model.coef_)\n",
    "print(\"Model intercept:\", model.intercept_)\n",
    "print(\"Model R² score:\", model.score(X, y))"
   ]
  },
  {
   "cell_type": "code",
   "execution_count": 8,
   "metadata": {},
   "outputs": [
    {
     "name": "stdout",
     "output_type": "stream",
     "text": [
      "Feature order for prediction: ['Mileage', 'Age(yrs)', 'BMW X5', 'Mercedez Benz C class']\n"
     ]
    }
   ],
   "source": [
    "# Prepare input feature order for predictions\n",
    "cols = ['Mileage', 'Age(yrs)'] + list(dummies.columns)\n",
    "print(\"Feature order for prediction:\", cols)"
   ]
  },
  {
   "cell_type": "code",
   "execution_count": 9,
   "metadata": {},
   "outputs": [
    {
     "name": "stdout",
     "output_type": "stream",
     "text": [
      "Predicted price (Mercedez Benz C class, 45000 miles, 4 yrs): 36991.31721061283\n",
      "Predicted price (BMW X5, 86000 miles, 7 yrs): 15365.409720591691\n"
     ]
    },
    {
     "name": "stderr",
     "output_type": "stream",
     "text": [
      "/Library/Frameworks/Python.framework/Versions/3.11/lib/python3.11/site-packages/sklearn/utils/validation.py:2749: UserWarning: X does not have valid feature names, but LinearRegression was fitted with feature names\n",
      "  warnings.warn(\n",
      "/Library/Frameworks/Python.framework/Versions/3.11/lib/python3.11/site-packages/sklearn/utils/validation.py:2749: UserWarning: X does not have valid feature names, but LinearRegression was fitted with feature names\n",
      "  warnings.warn(\n"
     ]
    }
   ],
   "source": [
    "# Predict using dummy variables\n",
    "features_mercedez = [45000, 4] + [1 if col == 'Mercedez Benz C class' else 0 for col in dummies.columns]\n",
    "features_bmw = [86000, 7] + [0 for col in dummies.columns]\n",
    "\n",
    "pred1 = model.predict([features_mercedez])\n",
    "pred2 = model.predict([features_bmw])\n",
    "\n",
    "print(\"Predicted price (Mercedez Benz C class, 45000 miles, 4 yrs):\", pred1[0])\n",
    "print(\"Predicted price (BMW X5, 86000 miles, 7 yrs):\", pred2[0])"
   ]
  },
  {
   "cell_type": "code",
   "execution_count": 10,
   "metadata": {},
   "outputs": [
    {
     "name": "stdout",
     "output_type": "stream",
     "text": [
      "Label Encoded Classes: ['Audi A5', 'BMW X5', 'Mercedez Benz C class']\n"
     ]
    }
   ],
   "source": [
    "# Label encoding for Car Model\n",
    "le = LabelEncoder()\n",
    "data['Car Model Encoded'] = le.fit_transform(data['Car Model'])\n",
    "print(\"Label Encoded Classes:\", list(le.classes_))"
   ]
  },
  {
   "cell_type": "code",
   "execution_count": 11,
   "metadata": {},
   "outputs": [],
   "source": [
    "# One-Hot Encoding using ColumnTransformer\n",
    "ct = ColumnTransformer(\n",
    "    transformers=[('encoder', OneHotEncoder(drop='first'), [0])],\n",
    "    remainder='passthrough'\n",
    ")\n",
    "\n",
    "X2 = ct.fit_transform(data[['Car Model Encoded', 'Mileage', 'Age(yrs)']])\n",
    "y2 = data['Sell Price($)']"
   ]
  },
  {
   "cell_type": "code",
   "execution_count": 12,
   "metadata": {},
   "outputs": [
    {
     "name": "stdout",
     "output_type": "stream",
     "text": [
      "Coefficients: [-4.28466659e+03  2.45354074e+03 -3.70122094e-01 -1.33245363e+03]\n",
      "Intercept: 56523.08523127322\n",
      "R² score: 0.9417050937281082\n",
      "OneHot categories: [array([0, 1, 2])]\n"
     ]
    }
   ],
   "source": [
    "# Train model using One-Hot Encoding\n",
    "model2 = LinearRegression()\n",
    "model2.fit(X2, y2)\n",
    "\n",
    "print(\"Coefficients:\", model2.coef_)\n",
    "print(\"Intercept:\", model2.intercept_)\n",
    "print(\"R² score:\", model2.score(X2, y2))\n",
    "print(\"OneHot categories:\", ct.named_transformers_['encoder'].categories_)"
   ]
  },
  {
   "cell_type": "code",
   "execution_count": 13,
   "metadata": {},
   "outputs": [],
   "source": [
    "# Predictions using One-Hot Encoding\n",
    "pred1_ohe = model2.predict([[0, 0, 45000, 4]])\n",
    "pred2_ohe = model2.predict([[0, 1, 86000, 7]])"
   ]
  },
  {
   "cell_type": "code",
   "execution_count": 14,
   "metadata": {},
   "outputs": [
    {
     "name": "stdout",
     "output_type": "stream",
     "text": [
      "\n",
      "Dummy Variables\n",
      "Predicted price (Mercedez Benz C class, 45000 miles, 4 yrs): 36991.31721061283\n",
      "Predicted price (BMW X5, 86000 miles, 7 yrs): 15365.409720591691\n",
      "\n",
      "One-Hot Encoding\n",
      "Predicted price (Mercedez Benz C class, 45000 miles, 4 yrs): 34537.77647335152\n",
      "Predicted price (BMW X5, 86000 miles, 7 yrs): 17818.950457856758\n"
     ]
    }
   ],
   "source": [
    "# Compare both encoding methods\n",
    "print(\"\\nDummy Variables\")\n",
    "print(\"Predicted price (Mercedez Benz C class, 45000 miles, 4 yrs):\", pred1[0])\n",
    "print(\"Predicted price (BMW X5, 86000 miles, 7 yrs):\", pred2[0])\n",
    "\n",
    "print(\"\\nOne-Hot Encoding\")\n",
    "print(\"Predicted price (Mercedez Benz C class, 45000 miles, 4 yrs):\", pred1_ohe[0])\n",
    "print(\"Predicted price (BMW X5, 86000 miles, 7 yrs):\", pred2_ohe[0])"
   ]
  }
 ],
 "metadata": {
  "kernelspec": {
   "display_name": "Python 3",
   "language": "python",
   "name": "python3"
  },
  "language_info": {
   "codemirror_mode": {
    "name": "ipython",
    "version": 3
   },
   "file_extension": ".py",
   "mimetype": "text/x-python",
   "name": "python",
   "nbconvert_exporter": "python",
   "pygments_lexer": "ipython3",
   "version": "3.11.3"
  }
 },
 "nbformat": 4,
 "nbformat_minor": 2
}
