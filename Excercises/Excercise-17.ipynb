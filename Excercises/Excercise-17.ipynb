{
 "cells": [
  {
   "cell_type": "code",
   "execution_count": 1,
   "metadata": {},
   "outputs": [],
   "source": [
    "# Import required libraries\n",
    "import pandas as pd\n",
    "from sklearn.model_selection import KFold, cross_val_score\n",
    "from sklearn.linear_model import LogisticRegression\n",
    "from sklearn.svm import SVC\n",
    "from sklearn.ensemble import RandomForestClassifier\n",
    "from sklearn.preprocessing import LabelEncoder\n",
    "from sklearn.utils import shuffle"
   ]
  },
  {
   "cell_type": "code",
   "execution_count": 4,
   "metadata": {},
   "outputs": [],
   "source": [
    "# Load dataset\n",
    "data = pd.read_csv(\"/Users/jacobfrancis/dev/csc180/csv/IRIS.csv\")"
   ]
  },
  {
   "cell_type": "code",
   "execution_count": 5,
   "metadata": {},
   "outputs": [],
   "source": [
    "# Encode target labels (convert species names to numbers)\n",
    "le = LabelEncoder()\n",
    "data['species'] = le.fit_transform(data['species'])"
   ]
  },
  {
   "cell_type": "code",
   "execution_count": 6,
   "metadata": {},
   "outputs": [],
   "source": [
    "# Separate features (X) and labels (y)\n",
    "X = data[['sepal_length', 'sepal_width', 'petal_length', 'petal_width']]\n",
    "y = data['species']\n"
   ]
  },
  {
   "cell_type": "code",
   "execution_count": 7,
   "metadata": {},
   "outputs": [],
   "source": [
    "# Shuffle data to make folds more balanced\n",
    "X, y = shuffle(X, y, random_state=42)"
   ]
  },
  {
   "cell_type": "code",
   "execution_count": 8,
   "metadata": {},
   "outputs": [],
   "source": [
    "# Define K-Fold cross validation (we’ll use 5 folds)\n",
    "kfold = KFold(n_splits=5, shuffle=True, random_state=42)"
   ]
  },
  {
   "cell_type": "code",
   "execution_count": 9,
   "metadata": {},
   "outputs": [],
   "source": [
    "# Initialize models\n",
    "log_model = LogisticRegression(max_iter=200)\n",
    "svm_model = SVC(kernel='linear')       # start with linear kernel\n",
    "rf_model = RandomForestClassifier(n_estimators=100, random_state=42)"
   ]
  },
  {
   "cell_type": "code",
   "execution_count": 10,
   "metadata": {},
   "outputs": [],
   "source": [
    "# Evaluate each model using cross-validation\n",
    "log_scores = cross_val_score(log_model, X, y, cv=kfold)\n",
    "svm_scores = cross_val_score(svm_model, X, y, cv=kfold)\n",
    "rf_scores = cross_val_score(rf_model, X, y, cv=kfold)"
   ]
  },
  {
   "cell_type": "code",
   "execution_count": 11,
   "metadata": {},
   "outputs": [
    {
     "name": "stdout",
     "output_type": "stream",
     "text": [
      "Average Accuracy (5-Fold CV):\n",
      "Logistic Regression: 0.9600\n",
      "SVM (linear kernel): 0.9867\n",
      "Random Forest:       0.9533\n"
     ]
    }
   ],
   "source": [
    "# Print average accuracy for each model\n",
    "print(\"Average Accuracy (5-Fold CV):\")\n",
    "print(f\"Logistic Regression: {log_scores.mean():.4f}\")\n",
    "print(f\"SVM (linear kernel): {svm_scores.mean():.4f}\")\n",
    "print(f\"Random Forest:       {rf_scores.mean():.4f}\")"
   ]
  },
  {
   "cell_type": "code",
   "execution_count": 12,
   "metadata": {},
   "outputs": [
    {
     "name": "stdout",
     "output_type": "stream",
     "text": [
      "\n",
      "SVM Accuracy by Kernel:\n",
      "Kernel = linear   --> Accuracy: 0.9867\n",
      "Kernel = poly     --> Accuracy: 0.9600\n",
      "Kernel = rbf      --> Accuracy: 0.9667\n",
      "Kernel = sigmoid  --> Accuracy: 0.2133\n"
     ]
    }
   ],
   "source": [
    "# Try different SVM kernels to see effect on performance\n",
    "kernels = ['linear', 'poly', 'rbf', 'sigmoid']\n",
    "print(\"\\nSVM Accuracy by Kernel:\")\n",
    "for k in kernels:\n",
    "    svm = SVC(kernel=k)\n",
    "    scores = cross_val_score(svm, X, y, cv=kfold)\n",
    "    print(f\"Kernel = {k:8s} --> Accuracy: {scores.mean():.4f}\")"
   ]
  }
 ],
 "metadata": {
  "kernelspec": {
   "display_name": "Python 3",
   "language": "python",
   "name": "python3"
  },
  "language_info": {
   "codemirror_mode": {
    "name": "ipython",
    "version": 3
   },
   "file_extension": ".py",
   "mimetype": "text/x-python",
   "name": "python",
   "nbconvert_exporter": "python",
   "pygments_lexer": "ipython3",
   "version": "3.11.3"
  }
 },
 "nbformat": 4,
 "nbformat_minor": 2
}
