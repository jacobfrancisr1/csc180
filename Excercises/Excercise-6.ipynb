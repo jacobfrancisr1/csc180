{
 "cells": [
  {
   "cell_type": "markdown",
   "metadata": {},
   "source": [
    "# Exercise 6 – Gradient Descent vs Scikit-Learn\n",
    "- Gradient descent minimizes cost by adjusting slope/intercept.  \n",
    "- Compared to sklearn to confirm accuracy.  \n",
    "- Cost = model prediction error."
   ]
  },
  {
   "cell_type": "code",
   "execution_count": 5,
   "metadata": {},
   "outputs": [],
   "source": [
    "import pandas as pd\n",
    "import numpy as np\n",
    "import math\n",
    "from sklearn import linear_model"
   ]
  },
  {
   "cell_type": "markdown",
   "metadata": {},
   "source": []
  },
  {
   "cell_type": "code",
   "execution_count": 6,
   "metadata": {},
   "outputs": [],
   "source": [
    "# Load dataset\n",
    "df = pd.read_csv(\"/Users/jacobfrancis/dev/csc180/csv/test_scores.csv\")\n",
    "\n",
    "x = df['math'].values\n",
    "y = df['cs'].values"
   ]
  },
  {
   "cell_type": "code",
   "execution_count": 7,
   "metadata": {},
   "outputs": [],
   "source": [
    "\n",
    "# Implement gradient descent for simple linear regression\n",
    "def gradient_descent(x, y, learning_rate=0.0001, iterations=10000):\n",
    "    m_curr = b_curr = 0\n",
    "    n = len(x)\n",
    "    prev_cost = float('inf')\n",
    "\n",
    "    for i in range(iterations):\n",
    "        y_predicted = m_curr * x + b_curr\n",
    "        cost = (1/n) * sum((y - y_predicted) ** 2)\n",
    "\n",
    "        md = -(2/n) * sum(x * (y - y_predicted))\n",
    "        bd = -(2/n) * sum(y - y_predicted)\n",
    "\n",
    "        m_curr -= learning_rate * md\n",
    "        b_curr -= learning_rate * bd\n",
    "\n",
    "        # Stop if cost no longer changes significantly\n",
    "        if math.isclose(cost, prev_cost, rel_tol=1e-20):\n",
    "            break\n",
    "\n",
    "        prev_cost = cost\n",
    "\n",
    "        if i % 1000 == 0:\n",
    "            print(f\"Iteration {i}: m={m_curr}, b={b_curr}, cost={cost}\")\n",
    "\n",
    "    return m_curr, b_curr, cost"
   ]
  },
  {
   "cell_type": "code",
   "execution_count": 8,
   "metadata": {},
   "outputs": [
    {
     "name": "stdout",
     "output_type": "stream",
     "text": [
      "Iteration 0: m=0.9891800000000002, b=0.013980000000000001, cost=5199.1\n",
      "Iteration 1000: m=1.0442472604806279, b=0.03645195319581003, cost=31.807145775135453\n",
      "Iteration 2000: m=1.0439446809541124, b=0.05789497882608324, cost=31.802546696422496\n",
      "Iteration 3000: m=1.0436455548730248, b=0.0790932677430894, cost=31.798052000384253\n",
      "Iteration 4000: m=1.0433498428219905, b=0.10004961321210076, cost=31.79365931790652\n",
      "Iteration 5000: m=1.0430575058354965, b=0.12076677661788081, cost=31.789366333645514\n",
      "Iteration 6000: m=1.042768505392757, b=0.14124748782854815, cost=31.785170784807505\n",
      "Iteration 7000: m=1.042482803412637, b=0.16149444555528567, cost=31.7810704599561\n",
      "Iteration 8000: m=1.0422003622486344, b=0.1815103177079474, cost=31.777063197846584\n",
      "Iteration 9000: m=1.041921144683921, b=0.2012977417466031, cost=31.773146886286824\n",
      "\n",
      "Gradient Descent Results:\n",
      "Slope (m): 1.0416453883775232\n",
      "Intercept (b): 0.22083987539287592\n",
      "Final Cost: 31.769323244725804\n"
     ]
    }
   ],
   "source": [
    "# Run gradient descent\n",
    "m_gd, b_gd, final_cost = gradient_descent(x, y)\n",
    "\n",
    "print(\"\\nGradient Descent Results:\")\n",
    "print(\"Slope (m):\", m_gd)\n",
    "print(\"Intercept (b):\", b_gd)\n",
    "print(\"Final Cost:\", final_cost)"
   ]
  },
  {
   "cell_type": "code",
   "execution_count": 9,
   "metadata": {},
   "outputs": [
    {
     "name": "stdout",
     "output_type": "stream",
     "text": [
      "\n",
      "Scikit-Learn Results:\n",
      "Slope (m): 1.0177362378569328\n",
      "Intercept (b): 1.9152193111569034\n"
     ]
    }
   ],
   "source": [
    "# Compare with Scikit-Learn LinearRegression\n",
    "reg = linear_model.LinearRegression()\n",
    "reg.fit(df[['math']], df['cs'])\n",
    "\n",
    "print(\"\\nScikit-Learn Results:\")\n",
    "print(\"Slope (m):\", reg.coef_[0])\n",
    "print(\"Intercept (b):\", reg.intercept_)"
   ]
  },
  {
   "cell_type": "code",
   "execution_count": 10,
   "metadata": {},
   "outputs": [
    {
     "name": "stdout",
     "output_type": "stream",
     "text": [
      "\n",
      "Difference:\n",
      "Slope diff: 0.023909150520590394\n",
      "Intercept diff: 1.6943794357640274\n"
     ]
    }
   ],
   "source": [
    "# Show difference between manual and library model\n",
    "print(\"\\nDifference:\")\n",
    "print(\"Slope diff:\", abs(m_gd - reg.coef_[0]))\n",
    "print(\"Intercept diff:\", abs(b_gd - reg.intercept_))"
   ]
  }
 ],
 "metadata": {
  "kernelspec": {
   "display_name": "Python 3",
   "language": "python",
   "name": "python3"
  },
  "language_info": {
   "codemirror_mode": {
    "name": "ipython",
    "version": 3
   },
   "file_extension": ".py",
   "mimetype": "text/x-python",
   "name": "python",
   "nbconvert_exporter": "python",
   "pygments_lexer": "ipython3",
   "version": "3.11.3"
  }
 },
 "nbformat": 4,
 "nbformat_minor": 2
}
